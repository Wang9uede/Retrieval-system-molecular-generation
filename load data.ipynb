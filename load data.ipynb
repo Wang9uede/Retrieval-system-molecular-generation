{
 "cells": [
  {
   "metadata": {
    "ExecuteTime": {
     "end_time": "2024-04-25T13:31:03.308638Z",
     "start_time": "2024-04-25T13:31:03.293332Z"
    }
   },
   "cell_type": "code",
   "source": "import tarfile",
   "id": "6d2389a67379d288",
   "outputs": [],
   "execution_count": 2
  },
  {
   "metadata": {
    "ExecuteTime": {
     "end_time": "2024-04-25T13:31:49.382845Z",
     "start_time": "2024-04-25T13:31:49.303211Z"
    }
   },
   "cell_type": "code",
   "source": "with tarfile.open('/Users/wangjuede/Downloads/molxpt/molxpt_code/molxpt_subset_data/dev.mixData', 'r:gz')as tar: train_data_content = tar.extractfile('train.mix.subset').read().decode('utf-8')",
   "id": "6761873d15fb63e9",
   "outputs": [
    {
     "ename": "ReadError",
     "evalue": "not a gzip file",
     "output_type": "error",
     "traceback": [
      "\u001B[0;31m---------------------------------------------------------------------------\u001B[0m",
      "\u001B[0;31mBadGzipFile\u001B[0m                               Traceback (most recent call last)",
      "File \u001B[0;32m/Library/Frameworks/Python.framework/Versions/3.8/lib/python3.8/tarfile.py:1674\u001B[0m, in \u001B[0;36mTarFile.gzopen\u001B[0;34m(cls, name, mode, fileobj, compresslevel, **kwargs)\u001B[0m\n\u001B[1;32m   1673\u001B[0m \u001B[38;5;28;01mtry\u001B[39;00m:\n\u001B[0;32m-> 1674\u001B[0m     t \u001B[38;5;241m=\u001B[39m \u001B[38;5;28;43mcls\u001B[39;49m\u001B[38;5;241;43m.\u001B[39;49m\u001B[43mtaropen\u001B[49m\u001B[43m(\u001B[49m\u001B[43mname\u001B[49m\u001B[43m,\u001B[49m\u001B[43m \u001B[49m\u001B[43mmode\u001B[49m\u001B[43m,\u001B[49m\u001B[43m \u001B[49m\u001B[43mfileobj\u001B[49m\u001B[43m,\u001B[49m\u001B[43m \u001B[49m\u001B[38;5;241;43m*\u001B[39;49m\u001B[38;5;241;43m*\u001B[39;49m\u001B[43mkwargs\u001B[49m\u001B[43m)\u001B[49m\n\u001B[1;32m   1675\u001B[0m \u001B[38;5;28;01mexcept\u001B[39;00m \u001B[38;5;167;01mOSError\u001B[39;00m:\n",
      "File \u001B[0;32m/Library/Frameworks/Python.framework/Versions/3.8/lib/python3.8/tarfile.py:1651\u001B[0m, in \u001B[0;36mTarFile.taropen\u001B[0;34m(cls, name, mode, fileobj, **kwargs)\u001B[0m\n\u001B[1;32m   1650\u001B[0m     \u001B[38;5;28;01mraise\u001B[39;00m \u001B[38;5;167;01mValueError\u001B[39;00m(\u001B[38;5;124m\"\u001B[39m\u001B[38;5;124mmode must be \u001B[39m\u001B[38;5;124m'\u001B[39m\u001B[38;5;124mr\u001B[39m\u001B[38;5;124m'\u001B[39m\u001B[38;5;124m, \u001B[39m\u001B[38;5;124m'\u001B[39m\u001B[38;5;124ma\u001B[39m\u001B[38;5;124m'\u001B[39m\u001B[38;5;124m, \u001B[39m\u001B[38;5;124m'\u001B[39m\u001B[38;5;124mw\u001B[39m\u001B[38;5;124m'\u001B[39m\u001B[38;5;124m or \u001B[39m\u001B[38;5;124m'\u001B[39m\u001B[38;5;124mx\u001B[39m\u001B[38;5;124m'\u001B[39m\u001B[38;5;124m\"\u001B[39m)\n\u001B[0;32m-> 1651\u001B[0m \u001B[38;5;28;01mreturn\u001B[39;00m \u001B[38;5;28;43mcls\u001B[39;49m\u001B[43m(\u001B[49m\u001B[43mname\u001B[49m\u001B[43m,\u001B[49m\u001B[43m \u001B[49m\u001B[43mmode\u001B[49m\u001B[43m,\u001B[49m\u001B[43m \u001B[49m\u001B[43mfileobj\u001B[49m\u001B[43m,\u001B[49m\u001B[43m \u001B[49m\u001B[38;5;241;43m*\u001B[39;49m\u001B[38;5;241;43m*\u001B[39;49m\u001B[43mkwargs\u001B[49m\u001B[43m)\u001B[49m\n",
      "File \u001B[0;32m/Library/Frameworks/Python.framework/Versions/3.8/lib/python3.8/tarfile.py:1514\u001B[0m, in \u001B[0;36mTarFile.__init__\u001B[0;34m(self, name, mode, fileobj, format, tarinfo, dereference, ignore_zeros, encoding, errors, pax_headers, debug, errorlevel, copybufsize)\u001B[0m\n\u001B[1;32m   1513\u001B[0m     \u001B[38;5;28mself\u001B[39m\u001B[38;5;241m.\u001B[39mfirstmember \u001B[38;5;241m=\u001B[39m \u001B[38;5;28;01mNone\u001B[39;00m\n\u001B[0;32m-> 1514\u001B[0m     \u001B[38;5;28mself\u001B[39m\u001B[38;5;241m.\u001B[39mfirstmember \u001B[38;5;241m=\u001B[39m \u001B[38;5;28;43mself\u001B[39;49m\u001B[38;5;241;43m.\u001B[39;49m\u001B[43mnext\u001B[49m\u001B[43m(\u001B[49m\u001B[43m)\u001B[49m\n\u001B[1;32m   1516\u001B[0m \u001B[38;5;28;01mif\u001B[39;00m \u001B[38;5;28mself\u001B[39m\u001B[38;5;241m.\u001B[39mmode \u001B[38;5;241m==\u001B[39m \u001B[38;5;124m\"\u001B[39m\u001B[38;5;124ma\u001B[39m\u001B[38;5;124m\"\u001B[39m:\n\u001B[1;32m   1517\u001B[0m     \u001B[38;5;66;03m# Move to the end of the archive,\u001B[39;00m\n\u001B[1;32m   1518\u001B[0m     \u001B[38;5;66;03m# before the first empty block.\u001B[39;00m\n",
      "File \u001B[0;32m/Library/Frameworks/Python.framework/Versions/3.8/lib/python3.8/tarfile.py:2318\u001B[0m, in \u001B[0;36mTarFile.next\u001B[0;34m(self)\u001B[0m\n\u001B[1;32m   2317\u001B[0m \u001B[38;5;28;01mtry\u001B[39;00m:\n\u001B[0;32m-> 2318\u001B[0m     tarinfo \u001B[38;5;241m=\u001B[39m \u001B[38;5;28;43mself\u001B[39;49m\u001B[38;5;241;43m.\u001B[39;49m\u001B[43mtarinfo\u001B[49m\u001B[38;5;241;43m.\u001B[39;49m\u001B[43mfromtarfile\u001B[49m\u001B[43m(\u001B[49m\u001B[38;5;28;43mself\u001B[39;49m\u001B[43m)\u001B[49m\n\u001B[1;32m   2319\u001B[0m \u001B[38;5;28;01mexcept\u001B[39;00m EOFHeaderError \u001B[38;5;28;01mas\u001B[39;00m e:\n",
      "File \u001B[0;32m/Library/Frameworks/Python.framework/Versions/3.8/lib/python3.8/tarfile.py:1104\u001B[0m, in \u001B[0;36mTarInfo.fromtarfile\u001B[0;34m(cls, tarfile)\u001B[0m\n\u001B[1;32m   1101\u001B[0m \u001B[38;5;250m\u001B[39m\u001B[38;5;124;03m\"\"\"Return the next TarInfo object from TarFile object\u001B[39;00m\n\u001B[1;32m   1102\u001B[0m \u001B[38;5;124;03m   tarfile.\u001B[39;00m\n\u001B[1;32m   1103\u001B[0m \u001B[38;5;124;03m\"\"\"\u001B[39;00m\n\u001B[0;32m-> 1104\u001B[0m buf \u001B[38;5;241m=\u001B[39m \u001B[43mtarfile\u001B[49m\u001B[38;5;241;43m.\u001B[39;49m\u001B[43mfileobj\u001B[49m\u001B[38;5;241;43m.\u001B[39;49m\u001B[43mread\u001B[49m\u001B[43m(\u001B[49m\u001B[43mBLOCKSIZE\u001B[49m\u001B[43m)\u001B[49m\n\u001B[1;32m   1105\u001B[0m obj \u001B[38;5;241m=\u001B[39m \u001B[38;5;28mcls\u001B[39m\u001B[38;5;241m.\u001B[39mfrombuf(buf, tarfile\u001B[38;5;241m.\u001B[39mencoding, tarfile\u001B[38;5;241m.\u001B[39merrors)\n",
      "File \u001B[0;32m/Library/Frameworks/Python.framework/Versions/3.8/lib/python3.8/gzip.py:292\u001B[0m, in \u001B[0;36mGzipFile.read\u001B[0;34m(self, size)\u001B[0m\n\u001B[1;32m    291\u001B[0m     \u001B[38;5;28;01mraise\u001B[39;00m \u001B[38;5;167;01mOSError\u001B[39;00m(errno\u001B[38;5;241m.\u001B[39mEBADF, \u001B[38;5;124m\"\u001B[39m\u001B[38;5;124mread() on write-only GzipFile object\u001B[39m\u001B[38;5;124m\"\u001B[39m)\n\u001B[0;32m--> 292\u001B[0m \u001B[38;5;28;01mreturn\u001B[39;00m \u001B[38;5;28;43mself\u001B[39;49m\u001B[38;5;241;43m.\u001B[39;49m\u001B[43m_buffer\u001B[49m\u001B[38;5;241;43m.\u001B[39;49m\u001B[43mread\u001B[49m\u001B[43m(\u001B[49m\u001B[43msize\u001B[49m\u001B[43m)\u001B[49m\n",
      "File \u001B[0;32m/Library/Frameworks/Python.framework/Versions/3.8/lib/python3.8/_compression.py:68\u001B[0m, in \u001B[0;36mDecompressReader.readinto\u001B[0;34m(self, b)\u001B[0m\n\u001B[1;32m     67\u001B[0m \u001B[38;5;28;01mwith\u001B[39;00m \u001B[38;5;28mmemoryview\u001B[39m(b) \u001B[38;5;28;01mas\u001B[39;00m view, view\u001B[38;5;241m.\u001B[39mcast(\u001B[38;5;124m\"\u001B[39m\u001B[38;5;124mB\u001B[39m\u001B[38;5;124m\"\u001B[39m) \u001B[38;5;28;01mas\u001B[39;00m byte_view:\n\u001B[0;32m---> 68\u001B[0m     data \u001B[38;5;241m=\u001B[39m \u001B[38;5;28;43mself\u001B[39;49m\u001B[38;5;241;43m.\u001B[39;49m\u001B[43mread\u001B[49m\u001B[43m(\u001B[49m\u001B[38;5;28;43mlen\u001B[39;49m\u001B[43m(\u001B[49m\u001B[43mbyte_view\u001B[49m\u001B[43m)\u001B[49m\u001B[43m)\u001B[49m\n\u001B[1;32m     69\u001B[0m     byte_view[:\u001B[38;5;28mlen\u001B[39m(data)] \u001B[38;5;241m=\u001B[39m data\n",
      "File \u001B[0;32m/Library/Frameworks/Python.framework/Versions/3.8/lib/python3.8/gzip.py:479\u001B[0m, in \u001B[0;36m_GzipReader.read\u001B[0;34m(self, size)\u001B[0m\n\u001B[1;32m    478\u001B[0m \u001B[38;5;28mself\u001B[39m\u001B[38;5;241m.\u001B[39m_init_read()\n\u001B[0;32m--> 479\u001B[0m \u001B[38;5;28;01mif\u001B[39;00m \u001B[38;5;129;01mnot\u001B[39;00m \u001B[38;5;28;43mself\u001B[39;49m\u001B[38;5;241;43m.\u001B[39;49m\u001B[43m_read_gzip_header\u001B[49m\u001B[43m(\u001B[49m\u001B[43m)\u001B[49m:\n\u001B[1;32m    480\u001B[0m     \u001B[38;5;28mself\u001B[39m\u001B[38;5;241m.\u001B[39m_size \u001B[38;5;241m=\u001B[39m \u001B[38;5;28mself\u001B[39m\u001B[38;5;241m.\u001B[39m_pos\n",
      "File \u001B[0;32m/Library/Frameworks/Python.framework/Versions/3.8/lib/python3.8/gzip.py:427\u001B[0m, in \u001B[0;36m_GzipReader._read_gzip_header\u001B[0;34m(self)\u001B[0m\n\u001B[1;32m    426\u001B[0m \u001B[38;5;28;01mif\u001B[39;00m magic \u001B[38;5;241m!=\u001B[39m \u001B[38;5;124mb\u001B[39m\u001B[38;5;124m'\u001B[39m\u001B[38;5;130;01m\\037\u001B[39;00m\u001B[38;5;130;01m\\213\u001B[39;00m\u001B[38;5;124m'\u001B[39m:\n\u001B[0;32m--> 427\u001B[0m     \u001B[38;5;28;01mraise\u001B[39;00m BadGzipFile(\u001B[38;5;124m'\u001B[39m\u001B[38;5;124mNot a gzipped file (\u001B[39m\u001B[38;5;132;01m%r\u001B[39;00m\u001B[38;5;124m)\u001B[39m\u001B[38;5;124m'\u001B[39m \u001B[38;5;241m%\u001B[39m magic)\n\u001B[1;32m    429\u001B[0m (method, flag,\n\u001B[1;32m    430\u001B[0m  \u001B[38;5;28mself\u001B[39m\u001B[38;5;241m.\u001B[39m_last_mtime) \u001B[38;5;241m=\u001B[39m struct\u001B[38;5;241m.\u001B[39munpack(\u001B[38;5;124m\"\u001B[39m\u001B[38;5;124m<BBIxx\u001B[39m\u001B[38;5;124m\"\u001B[39m, \u001B[38;5;28mself\u001B[39m\u001B[38;5;241m.\u001B[39m_read_exact(\u001B[38;5;241m8\u001B[39m))\n",
      "\u001B[0;31mBadGzipFile\u001B[0m: Not a gzipped file (b'Af')",
      "\nDuring handling of the above exception, another exception occurred:\n",
      "\u001B[0;31mReadError\u001B[0m                                 Traceback (most recent call last)",
      "Cell \u001B[0;32mIn[4], line 1\u001B[0m\n\u001B[0;32m----> 1\u001B[0m \u001B[38;5;28;01mwith\u001B[39;00m tarfile\u001B[38;5;241m.\u001B[39mopen(\u001B[38;5;124m'\u001B[39m\u001B[38;5;124m/Users/wangjuede/Downloads/molxpt/molxpt_code/molxpt_subset_data/dev.mixData\u001B[39m\u001B[38;5;124m'\u001B[39m, \u001B[38;5;124m'\u001B[39m\u001B[38;5;124mr:gz\u001B[39m\u001B[38;5;124m'\u001B[39m)\u001B[38;5;28;01mas\u001B[39;00m tar: train_data_content \u001B[38;5;241m=\u001B[39m tar\u001B[38;5;241m.\u001B[39mextractfile(\u001B[38;5;124m'\u001B[39m\u001B[38;5;124mtrain.mix.subset\u001B[39m\u001B[38;5;124m'\u001B[39m)\u001B[38;5;241m.\u001B[39mread()\u001B[38;5;241m.\u001B[39mdecode(\u001B[38;5;124m'\u001B[39m\u001B[38;5;124mutf-8\u001B[39m\u001B[38;5;124m'\u001B[39m)\n",
      "File \u001B[0;32m/Library/Frameworks/Python.framework/Versions/3.8/lib/python3.8/tarfile.py:1621\u001B[0m, in \u001B[0;36mTarFile.open\u001B[0;34m(cls, name, mode, fileobj, bufsize, **kwargs)\u001B[0m\n\u001B[1;32m   1619\u001B[0m     \u001B[38;5;28;01melse\u001B[39;00m:\n\u001B[1;32m   1620\u001B[0m         \u001B[38;5;28;01mraise\u001B[39;00m CompressionError(\u001B[38;5;124m\"\u001B[39m\u001B[38;5;124munknown compression type \u001B[39m\u001B[38;5;132;01m%r\u001B[39;00m\u001B[38;5;124m\"\u001B[39m \u001B[38;5;241m%\u001B[39m comptype)\n\u001B[0;32m-> 1621\u001B[0m     \u001B[38;5;28;01mreturn\u001B[39;00m \u001B[43mfunc\u001B[49m\u001B[43m(\u001B[49m\u001B[43mname\u001B[49m\u001B[43m,\u001B[49m\u001B[43m \u001B[49m\u001B[43mfilemode\u001B[49m\u001B[43m,\u001B[49m\u001B[43m \u001B[49m\u001B[43mfileobj\u001B[49m\u001B[43m,\u001B[49m\u001B[43m \u001B[49m\u001B[38;5;241;43m*\u001B[39;49m\u001B[38;5;241;43m*\u001B[39;49m\u001B[43mkwargs\u001B[49m\u001B[43m)\u001B[49m\n\u001B[1;32m   1623\u001B[0m \u001B[38;5;28;01melif\u001B[39;00m \u001B[38;5;124m\"\u001B[39m\u001B[38;5;124m|\u001B[39m\u001B[38;5;124m\"\u001B[39m \u001B[38;5;129;01min\u001B[39;00m mode:\n\u001B[1;32m   1624\u001B[0m     filemode, comptype \u001B[38;5;241m=\u001B[39m mode\u001B[38;5;241m.\u001B[39msplit(\u001B[38;5;124m\"\u001B[39m\u001B[38;5;124m|\u001B[39m\u001B[38;5;124m\"\u001B[39m, \u001B[38;5;241m1\u001B[39m)\n",
      "File \u001B[0;32m/Library/Frameworks/Python.framework/Versions/3.8/lib/python3.8/tarfile.py:1678\u001B[0m, in \u001B[0;36mTarFile.gzopen\u001B[0;34m(cls, name, mode, fileobj, compresslevel, **kwargs)\u001B[0m\n\u001B[1;32m   1676\u001B[0m     fileobj\u001B[38;5;241m.\u001B[39mclose()\n\u001B[1;32m   1677\u001B[0m     \u001B[38;5;28;01mif\u001B[39;00m mode \u001B[38;5;241m==\u001B[39m \u001B[38;5;124m'\u001B[39m\u001B[38;5;124mr\u001B[39m\u001B[38;5;124m'\u001B[39m:\n\u001B[0;32m-> 1678\u001B[0m         \u001B[38;5;28;01mraise\u001B[39;00m ReadError(\u001B[38;5;124m\"\u001B[39m\u001B[38;5;124mnot a gzip file\u001B[39m\u001B[38;5;124m\"\u001B[39m)\n\u001B[1;32m   1679\u001B[0m     \u001B[38;5;28;01mraise\u001B[39;00m\n\u001B[1;32m   1680\u001B[0m \u001B[38;5;28;01mexcept\u001B[39;00m:\n",
      "\u001B[0;31mReadError\u001B[0m: not a gzip file"
     ]
    }
   ],
   "execution_count": 4
  },
  {
   "metadata": {
    "ExecuteTime": {
     "end_time": "2024-05-11T08:12:11.191915Z",
     "start_time": "2024-05-11T08:12:11.060781Z"
    }
   },
   "cell_type": "code",
   "source": [
    "with open('/Users/wangjuede/Downloads/molxpt/molxpt_code/molxpt_subset_data/dev.mixData', 'r', encoding='utf-8') as file:\n",
    "    text_data = file.read()"
   ],
   "id": "47ddb07ac4ad8e49",
   "outputs": [],
   "execution_count": 1
  },
  {
   "metadata": {
    "ExecuteTime": {
     "end_time": "2024-05-11T08:13:31.748534Z",
     "start_time": "2024-05-11T08:13:31.742891Z"
    }
   },
   "cell_type": "code",
   "source": "print(text_data[1100])",
   "id": "67552671e0d3f45",
   "outputs": [
    {
     "name": "stdout",
     "output_type": "stream",
     "text": [
      "[\n"
     ]
    }
   ],
   "execution_count": 9
  },
  {
   "metadata": {
    "jupyter": {
     "is_executing": true
    },
    "ExecuteTime": {
     "start_time": "2024-05-23T08:25:59.186184Z"
    }
   },
   "cell_type": "code",
   "source": [
    "import xml.etree.ElementTree as ET\n",
    "\n",
    "# 加载XML文件\n",
    "tree = ET.parse('/Users/wangjuede/Downloads/component1.xml')\n",
    "root = tree.getroot()\n",
    "\n",
    "# 遍历XML文件中的元素，并打印前5项\n",
    "for i, item in enumerate(root):\n",
    "    if i < 5:\n",
    "        print(f\"Item {i+1}: {ET.tostring(item, encoding='unicode')}\")\n",
    "    else:\n",
    "        break"
   ],
   "id": "54dc5daf9e510951",
   "outputs": [],
   "execution_count": null
  }
 ],
 "metadata": {
  "kernelspec": {
   "display_name": "Python 3",
   "language": "python",
   "name": "python3"
  },
  "language_info": {
   "codemirror_mode": {
    "name": "ipython",
    "version": 2
   },
   "file_extension": ".py",
   "mimetype": "text/x-python",
   "name": "python",
   "nbconvert_exporter": "python",
   "pygments_lexer": "ipython2",
   "version": "2.7.6"
  }
 },
 "nbformat": 4,
 "nbformat_minor": 5
}
