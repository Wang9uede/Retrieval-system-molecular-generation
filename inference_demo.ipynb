{
 "cells": [
  {
   "cell_type": "code",
   "metadata": {
    "ExecuteTime": {
     "end_time": "2024-06-16T02:35:02.649607Z",
     "start_time": "2024-06-16T02:34:58.014353Z"
    }
   },
   "source": [
    "from transformers import AutoTokenizer\n",
    "from transformers import StoppingCriteria, StoppingCriteriaList\n",
    "from molxpt_tokenizer import MolxptTokenizer\n",
    "import re\n",
    "import time\n",
    "from tqdm import tqdm\n",
    "import sacremoses"
   ],
   "outputs": [],
   "execution_count": 1
  },
  {
   "cell_type": "code",
   "metadata": {
    "ExecuteTime": {
     "end_time": "2024-06-16T02:35:04.819164Z",
     "start_time": "2024-06-16T02:35:04.774525Z"
    }
   },
   "source": [
    "molxpt_tokenizer = MolxptTokenizer.from_pretrained(\"molxpt_ckpt\", use_fast=False)"
   ],
   "outputs": [
    {
     "name": "stderr",
     "output_type": "stream",
     "text": [
      "The tokenizer class you load from this checkpoint is not the same type as the class this function is called from. It may result in unexpected tokenization. \n",
      "The tokenizer class you load from this checkpoint is 'BioGptTokenizer'. \n",
      "The class this function is called from is 'MolxptTokenizer'.\n"
     ]
    }
   ],
   "execution_count": 2
  },
  {
   "cell_type": "code",
   "metadata": {
    "ExecuteTime": {
     "end_time": "2024-06-16T02:35:28.984577Z",
     "start_time": "2024-06-16T02:35:28.968880Z"
    }
   },
   "source": [
    "\n",
    "input_str = '<start-of-mol>CC(=O)OC1=CC=CC=C1C(=O)O<end-of-mol> is in a group of medications called salicylates.'\n",
    "tok = molxpt_tokenizer.tokenize(input_str)\n",
    "print(tok)"
   ],
   "outputs": [
    {
     "name": "stdout",
     "output_type": "stream",
     "text": [
      "['&lt;</w>', 's', 'om</w>', '&gt;</w>', 'CC</w>', '(</w>', '=</w>', 'O</w>', ')</w>', 'O', 'C1</w>', '=</w>', 'CC</w>', '=</w>', 'CC</w>', '=</w>', 'C1', 'C</w>', '(</w>', '=</w>', 'O</w>', ')</w>', 'O</w>', '&lt;</w>', 'e', 'om</w>', '&gt;</w>', 'is</w>', 'in</w>', 'a</w>', 'group</w>', 'of</w>', 'medications</w>', 'called</w>', 'salic', 'ylates</w>', '.</w>']\n"
     ]
    }
   ],
   "execution_count": 4
  },
  {
   "cell_type": "code",
   "metadata": {
    "ExecuteTime": {
     "end_time": "2024-05-23T02:43:28.207402Z",
     "start_time": "2024-05-23T02:43:21.919380Z"
    }
   },
   "source": [
    "from transformers import AutoTokenizer, AutoModelForCausalLM\n",
    "\n",
    "model = AutoModelForCausalLM.from_pretrained(\"molxpt_ckpt\")"
   ],
   "outputs": [],
   "execution_count": 4
  },
  {
   "cell_type": "code",
   "metadata": {
    "ExecuteTime": {
     "end_time": "2024-05-23T02:43:30.180271Z",
     "start_time": "2024-05-23T02:43:30.168199Z"
    }
   },
   "source": [
    "#model = model.cuda()\n",
    "model.eval()"
   ],
   "outputs": [
    {
     "data": {
      "text/plain": [
       "BioGptForCausalLM(\n",
       "  (biogpt): BioGptModel(\n",
       "    (embed_tokens): Embedding(44536, 1024, padding_idx=1)\n",
       "    (embed_positions): BioGptLearnedPositionalEmbedding(2050, 1024)\n",
       "    (layers): ModuleList(\n",
       "      (0-23): 24 x BioGptDecoderLayer(\n",
       "        (self_attn): BioGptAttention(\n",
       "          (k_proj): Linear(in_features=1024, out_features=1024, bias=True)\n",
       "          (v_proj): Linear(in_features=1024, out_features=1024, bias=True)\n",
       "          (q_proj): Linear(in_features=1024, out_features=1024, bias=True)\n",
       "          (out_proj): Linear(in_features=1024, out_features=1024, bias=True)\n",
       "        )\n",
       "        (activation_fn): GELUActivation()\n",
       "        (self_attn_layer_norm): LayerNorm((1024,), eps=1e-05, elementwise_affine=True)\n",
       "        (fc1): Linear(in_features=1024, out_features=4096, bias=True)\n",
       "        (fc2): Linear(in_features=4096, out_features=1024, bias=True)\n",
       "        (final_layer_norm): LayerNorm((1024,), eps=1e-05, elementwise_affine=True)\n",
       "      )\n",
       "    )\n",
       "    (layer_norm): LayerNorm((1024,), eps=1e-05, elementwise_affine=True)\n",
       "  )\n",
       "  (output_projection): Linear(in_features=1024, out_features=44536, bias=False)\n",
       ")"
      ]
     },
     "execution_count": 5,
     "metadata": {},
     "output_type": "execute_result"
    }
   ],
   "execution_count": 5
  },
  {
   "cell_type": "code",
   "metadata": {
    "ExecuteTime": {
     "end_time": "2024-05-17T12:58:38.187676Z",
     "start_time": "2024-05-17T12:57:13.819038Z"
    }
   },
   "source": [
    "input_ids = molxpt_tokenizer('Aspirin is', return_tensors=\"pt\").input_ids\n",
    "print(input_ids)\n",
    "output = model.generate(\n",
    "    input_ids,\n",
    "    num_beams=4,\n",
    "    max_new_tokens=300,\n",
    "    num_return_sequences=4,\n",
    "    return_dict_in_generate=True,\n",
    "    output_scores=True,\n",
    "    do_sample=False,\n",
    ")\n",
    "\n",
    "for i in range(4):\n",
    "    s = molxpt_tokenizer.decode(output.sequences[i])\n",
    "    print(s, output.sequences_scores[i].item())"
   ],
   "outputs": [
    {
     "name": "stdout",
     "output_type": "stream",
     "text": [
      "tensor([[    2, 35357,    30]])\n",
      "</s>Aspirin is associated with a reduced risk of colorectal cancer in patients with inflammatory bowel disease: a population-based cohort study. AIM: To investigate the association between aspirin use and the risk of colorectal cancer (CRC) in patients with inflammatory bowel disease (IBD). METHODS: We conducted a population-based cohort study using data from the Taiwan National Health Insurance Research Database. We identified a cohort of patients newly diagnosed with IBD between 2000 and 2010. The aspirin users were matched with non-users by age, sex, and index year. The Cox proportional hazards model was used to estimate the hazard ratios (HRs) and 95% confidence intervals (CIs) for the association between aspirin use and the risk of CRC in patients with IBD. RESULTS: We identified a total of 2608 patients with IBD, of whom 1016 were aspirin users and 1216 were non-users. During the follow-up period, we identified a total of 414 patients with CRC. The aspirin users had a significantly lower risk of CRC compared with the non-users (adjusted HR = 0.66, 95% CI = 0.51-0.87). The aspirin users also had a significantly lower risk of CRC in patients with ulcerative colitis (adjusted HR = 0.66, 95% CI = 0.49-0.89), but not in patients with Crohn's disease (adjusted HR = 0.92, 95% CI = 0.68-1.24). CONCLUSION: Aspirin use was associated with a reduced risk of CRC in patients with IBD. </s> -0.5824533700942993\n",
      "</s>Aspirin is associated with a reduced risk of colorectal cancer in patients with inflammatory bowel disease: a population-based cohort study. AIM: To investigate the association between aspirin use and the risk of colorectal cancer (CRC) in patients with inflammatory bowel disease (IBD). METHODS: We conducted a population-based cohort study using data from the Taiwan National Health Insurance Research Database. We identified a cohort of patients newly diagnosed with IBD between 2000 and 2010. The aspirin users were matched with non-users by age, sex, and index year. The Cox proportional hazards model was used to estimate the hazard ratios (HRs) and 95% confidence intervals (CIs) for the association between aspirin use and the risk of CRC in patients with IBD. RESULTS: We identified a total of 2608 patients with IBD, of whom 1016 were aspirin users and 1216 were non-users. During the follow-up period, we identified a total of 414 patients with CRC. The aspirin users had a significantly lower risk of CRC compared with the non-users (adjusted HR = 0.66, 95% CI = 0.51-0.87). The aspirin users also had a significantly lower risk of CRC in patients with ulcerative colitis (adjusted HR = 0.66, 95% CI = 0.48-0.91), but not in patients with Crohn's disease (adjusted HR = 0.92, 95% CI = 0.68-1.24). CONCLUSION: Aspirin use was associated with a reduced risk of CRC in patients with IBD. </s> -0.5824599862098694\n",
      "</s>Aspirin is associated with a reduced risk of colorectal cancer in patients with inflammatory bowel disease: a population-based cohort study. AIM: To investigate the association between aspirin use and the risk of colorectal cancer (CRC) in patients with inflammatory bowel disease (IBD). METHODS: We conducted a population-based cohort study using data from the Taiwan National Health Insurance Research Database. We identified a cohort of patients newly diagnosed with IBD between 2000 and 2010. The aspirin users were matched with non-users by age, sex, and index year. The Cox proportional hazards model was used to estimate the hazard ratios (HRs) and 95% confidence intervals (CIs) for the association between aspirin use and the risk of CRC in patients with IBD. RESULTS: We identified a total of 2608 patients with IBD, of whom 1016 were aspirin users and 1216 were non-users. During the follow-up period, we identified a total of 414 patients with CRC. The aspirin users had a significantly lower risk of CRC compared with the non-users (adjusted HR = 0.66, 95% CI = 0.51-0.87). The aspirin users also had a significantly lower risk of CRC in patients with ulcerative colitis (adjusted HR = 0.66, 95% CI = 0.49-0.88), but not in patients with Crohn's disease (adjusted HR = 0.92, 95% CI = 0.68-1.24). CONCLUSION: Aspirin use was associated with a reduced risk of CRC in patients with IBD. </s> -0.5824606418609619\n",
      "</s>Aspirin is associated with a reduced risk of colorectal cancer in patients with inflammatory bowel disease: a population-based cohort study. AIM: To investigate the association between aspirin use and the risk of colorectal cancer (CRC) in patients with inflammatory bowel disease (IBD). METHODS: We conducted a population-based cohort study using data from the Taiwan National Health Insurance Research Database. We identified a cohort of patients newly diagnosed with IBD between 2000 and 2010. The aspirin users were matched with non-users by age, sex, and index year. The Cox proportional hazards model was used to estimate the hazard ratios (HRs) and 95% confidence intervals (CIs) for the association between aspirin use and the risk of CRC in patients with IBD. RESULTS: We identified a total of 2608 patients with IBD, of whom 1016 were aspirin users and 1216 were non-users. During the follow-up period, we identified a total of 414 patients with CRC. The aspirin users had a significantly lower risk of CRC compared with the non-users (adjusted HR = 0.66, 95% CI = 0.51-0.87). The aspirin users also had a significantly lower risk of CRC in patients with ulcerative colitis (adjusted HR = 0.66, 95% CI = 0.49-0.88), but not in patients with Crohn's disease (adjusted HR = 0.92, 95% CI = 0.68-1.25). CONCLUSION: Aspirin use was associated with a reduced risk of CRC in patients with IBD. </s> -0.5827369093894958\n"
     ]
    }
   ],
   "execution_count": 14
  },
  {
   "metadata": {
    "ExecuteTime": {
     "end_time": "2024-05-18T13:07:37.283416Z",
     "start_time": "2024-05-18T13:07:32.915476Z"
    }
   },
   "cell_type": "code",
   "source": [
    "input_ids = molxpt_tokenizer('Aspirin is', return_tensors=\"pt\").input_ids\n",
    "output = model.generate(\n",
    "    input_ids,\n",
    "    max_new_tokens=100,\n",
    "    temperature=0.75,\n",
    "    do_sample=True,\n",
    ")\n",
    "print(output)"
   ],
   "outputs": [
    {
     "name": "stderr",
     "output_type": "stream",
     "text": [
      "/Library/Frameworks/Python.framework/Versions/3.8/lib/python3.8/site-packages/transformers/generation/configuration_utils.py:492: UserWarning: `do_sample` is set to `False`. However, `temperature` is set to `0.75` -- this flag is only used in sample-based generation modes. You should set `do_sample=True` or unset `temperature`.\n",
      "  warnings.warn(\n"
     ]
    },
    {
     "name": "stdout",
     "output_type": "stream",
     "text": [
      "tensor([[    2, 35357,    30,    58,   103,    23,   105,   147,     9,  2174,\n",
      "           132,    15,    42,    23,   745,  2647,   113,     8,   326,    34,\n",
      "         35357,    30,    22,  1520,    88,  1900,    26,    10,  1203,     9,\n",
      "           960,   113,     8,   184,    11,   265,    30,  3842,    32,  7665,\n",
      "            86,   176,    10,   147,     9,  2174,   132,    18,  4278,    17,\n",
      "             8,  2730,    34,   197,   382,   424,  7665,    30,   103,    23,\n",
      "            47,   105,   147,     9,  4278,    15,    42,    23,   745,  2647,\n",
      "           113,    18,  6860,    17,     8,   175,    34,    74,   634,    22,\n",
      "          1529,  1018,    56,     9,    42,    23,  6860,   194,    29,  4053,\n",
      "          7665,    67,  2288,    71,    11,  2989,    13,  3077,  1218,    11,\n",
      "          3509,     8,    28]])\n"
     ]
    }
   ],
   "execution_count": 13
  },
  {
   "metadata": {
    "ExecuteTime": {
     "end_time": "2024-05-18T13:13:45.750643Z",
     "start_time": "2024-05-18T13:13:45.728573Z"
    }
   },
   "cell_type": "code",
   "source": [
    "s = molxpt_tokenizer.decode(output[0])\n",
    "print(s)"
   ],
   "outputs": [
    {
     "name": "stdout",
     "output_type": "stream",
     "text": [
      "</s>Aspirin is not associated with increased risk of colorectal cancer in patients with inflammatory bowel disease. BACKGROUND: Aspirin is a widely used medication for the prevention of cardiovascular disease. However, there is concern that aspirin may increase the risk of colorectal cancer (CRC). AIM: To determine whether aspirin is associated with an increased risk of CRC in patients with inflammatory bowel disease (IBD). METHODS: We conducted a retrospective cohort study of patients with IBD who were prescribed aspirin between January 1, 2000 and December 31, 2010. The\n"
     ]
    }
   ],
   "execution_count": 14
  },
  {
   "metadata": {},
   "cell_type": "code",
   "outputs": [],
   "execution_count": null,
   "source": [
    "input_ids = molxpt_tokenizer('Aspirin is', return_tensors=\"pt\").input_ids.cuda()\n",
    "output = model.generate(\n",
    "    input_ids,\n",
    "    max_new_tokens=300,\n",
    "    num_return_sequences=4,\n",
    "    temperature=0.75,\n",
    "    top_p=0.95,\n",
    "    do_sample=True,\n",
    ")\n",
    "\n",
    "for i in range(4):\n",
    "    s = molxpt_tokenizer.decode(output[i])\n",
    "    print(s)\n"
   ]
  },
  {
   "metadata": {},
   "cell_type": "code",
   "outputs": [],
   "execution_count": null,
   "source": ""
  },
  {
   "metadata": {},
   "cell_type": "markdown",
   "source": "Embedding module"
  },
  {
   "metadata": {
    "ExecuteTime": {
     "end_time": "2024-05-23T02:43:42.556642Z",
     "start_time": "2024-05-23T02:43:42.549807Z"
    }
   },
   "cell_type": "code",
   "source": [
    "vocab_size = model.biogpt.embed_tokens.num_embeddings\n",
    "d_model = model.biogpt.embed_tokens.embedding_dim\n",
    "token_embeddings_weight = model.biogpt.embed_tokens.weight.data\n",
    "position_embeddings_weight = model.biogpt.embed_positions.weight.data"
   ],
   "outputs": [],
   "execution_count": 6
  },
  {
   "metadata": {
    "ExecuteTime": {
     "end_time": "2024-05-23T02:43:47.195202Z",
     "start_time": "2024-05-23T02:43:47.187489Z"
    }
   },
   "cell_type": "code",
   "source": [
    "import torch.nn as nn\n",
    "\n",
    "class EmbeddingModule(nn.Module):\n",
    "    def __init__(self, vocab_size, d_model):\n",
    "        super(EmbeddingModule, self).__init__()\n",
    "        # 使用从预训练模型中提取的权重来初始化词嵌入层\n",
    "        self.token_embeddings = nn.Embedding.from_pretrained(token_embeddings_weight, freeze=False)\n",
    "        # 使用从预训练模型中提取的权重来初始化位置嵌入层\n",
    "        self.position_embeddings = nn.Embedding.from_pretrained(position_embeddings_weight, freeze=False)\n",
    "\n",
    "    def forward(self, input_ids, position_ids=None):\n",
    "        tokens_embeddings = self.token_embeddings(input_ids)\n",
    "        \n",
    "        # 如果没有提供位置ID，则生成它们\n",
    "        if position_ids is None:\n",
    "            position_ids = torch.arange(input_ids.size(1), device=input_ids.device).unsqueeze(0)\n",
    "        position_embeddings = self.position_embeddings(position_ids)\n",
    "        \n",
    "        embeddings = tokens_embeddings + position_embeddings\n",
    "        return embeddings"
   ],
   "outputs": [],
   "execution_count": 7
  },
  {
   "metadata": {
    "ExecuteTime": {
     "end_time": "2024-05-23T03:09:03.806244Z",
     "start_time": "2024-05-23T03:09:03.778834Z"
    }
   },
   "cell_type": "code",
   "source": [
    "import torch.nn\n",
    "token_embeddings = model.biogpt.embed_tokens\n",
    "positional_embeddings = model.biogpt.embed_positions\n",
    "# 假设我们提取第4个Transformer层的输出\n",
    "intermediate_layer = model.biogpt.layers[3]\n",
    "layer_norm = model.biogpt.layer_norm\n",
    "\n",
    "# 创建自定义嵌入模块\n",
    "class EmbeddingModule_full(torch.nn.Module):\n",
    "    def __init__(self, token_embeddings, positional_embeddings, intermediate_layer, layer_norm):\n",
    "        super(EmbeddingModule_full, self).__init__()\n",
    "        self.token_embeddings = token_embeddings\n",
    "        self.positional_embeddings = positional_embeddings\n",
    "        self.intermediate_layer = intermediate_layer\n",
    "        self.layer_norm = layer_norm\n",
    "\n",
    "    def forward(self, input_ids, position_ids):\n",
    "        # 获取词嵌入\n",
    "        token_embeddings = self.token_embeddings(input_ids)\n",
    "        # 获取位置编码\n",
    "        position_embeddings = self.positional_embeddings(position_ids)\n",
    "        \n",
    "        # 合并词嵌入和位置编码\n",
    "        embeddings = token_embeddings + position_embeddings\n",
    "        \n",
    "        # 通过选定的Transformer中间层\n",
    "        embeddings = self.intermediate_layer(embeddings)\n",
    "        \n",
    "        # 应用层归一化\n",
    "        embeddings = self.layer_norm(embeddings)\n",
    "        \n",
    "        # 可以添加池化层或其他处理步骤来生成固定大小的向量\n",
    "        # 例如，使用平均池化\n",
    "        embeddings = torch.mean(embeddings, dim=1)\n",
    "        \n",
    "        return embeddings\n"
   ],
   "outputs": [],
   "execution_count": 11
  },
  {
   "metadata": {
    "ExecuteTime": {
     "end_time": "2024-05-23T03:09:45.118393Z",
     "start_time": "2024-05-23T03:09:45.110930Z"
    }
   },
   "cell_type": "code",
   "source": [
    "# 实例化嵌入模块\n",
    "# 实例化嵌入模块\n",
    "embedding_module = EmbeddingModule_full(token_embeddings, positional_embeddings, intermediate_layer, layer_norm)"
   ],
   "outputs": [],
   "execution_count": 12
  },
  {
   "metadata": {
    "ExecuteTime": {
     "end_time": "2024-05-23T03:10:05.445859Z",
     "start_time": "2024-05-23T03:10:04.433835Z"
    }
   },
   "cell_type": "code",
   "source": [
    "# 保存嵌入模块\n",
    "import torch\n",
    "torch.save(embedding_module, 'embedding_module_full.pth')"
   ],
   "outputs": [],
   "execution_count": 13
  },
  {
   "metadata": {},
   "cell_type": "code",
   "outputs": [],
   "execution_count": null,
   "source": ""
  }
 ],
 "metadata": {
  "kernelspec": {
   "display_name": "omnispt",
   "language": "python",
   "name": "python3"
  },
  "language_info": {
   "codemirror_mode": {
    "name": "ipython",
    "version": 3
   },
   "file_extension": ".py",
   "mimetype": "text/x-python",
   "name": "python",
   "nbconvert_exporter": "python",
   "pygments_lexer": "ipython3",
   "version": "3.9.18"
  },
  "orig_nbformat": 4
 },
 "nbformat": 4,
 "nbformat_minor": 2
}
